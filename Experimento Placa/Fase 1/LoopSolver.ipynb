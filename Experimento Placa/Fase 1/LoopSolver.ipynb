{
 "cells": [
  {
   "cell_type": "markdown",
   "metadata": {
    "id": "GlPRqY9RIhDa"
   },
   "source": [
    "# Paquetes"
   ]
  },
  {
   "cell_type": "code",
   "execution_count": 2,
   "metadata": {
    "colab": {
     "base_uri": "https://localhost:8080/"
    },
    "executionInfo": {
     "elapsed": 4266,
     "status": "ok",
     "timestamp": 1627678301250,
     "user": {
      "displayName": "FELIX FERNÁNDEZ DE LA MATA",
      "photoUrl": "",
      "userId": "17252622624273659964"
     },
     "user_tz": -120
    },
    "id": "Bj9aqM-EIVDt",
    "outputId": "af4ca3f0-0a9d-4fae-febd-613f635b0412"
   },
   "outputs": [],
   "source": [
    "# !pip install sciann --quiet"
   ]
  },
  {
   "cell_type": "code",
   "execution_count": 3,
   "metadata": {
    "colab": {
     "base_uri": "https://localhost:8080/"
    },
    "executionInfo": {
     "elapsed": 9985,
     "status": "ok",
     "timestamp": 1627678311231,
     "user": {
      "displayName": "FELIX FERNÁNDEZ DE LA MATA",
      "photoUrl": "",
      "userId": "17252622624273659964"
     },
     "user_tz": -120
    },
    "id": "xH-CR3upIoF1",
    "outputId": "e504fa1e-d173-4603-83a1-7d9b11911a28"
   },
   "outputs": [],
   "source": [
    "# !pip install mlflow --quiet"
   ]
  },
  {
   "cell_type": "code",
   "execution_count": 4,
   "metadata": {
    "colab": {
     "base_uri": "https://localhost:8080/"
    },
    "executionInfo": {
     "elapsed": 23645,
     "status": "ok",
     "timestamp": 1627678334863,
     "user": {
      "displayName": "FELIX FERNÁNDEZ DE LA MATA",
      "photoUrl": "",
      "userId": "17252622624273659964"
     },
     "user_tz": -120
    },
    "id": "KR-kBH2aTmwY",
    "outputId": "4356b69e-e972-49f3-df55-03172dd2d2fa"
   },
   "outputs": [],
   "source": [
    "# from google.colab import drive\n",
    "# drive.mount('/content/drive')"
   ]
  },
  {
   "cell_type": "code",
   "execution_count": 5,
   "metadata": {
    "id": "Vjur_yuDToUf"
   },
   "outputs": [],
   "source": [
    "# import os\n",
    "\n",
    "# os.chdir('/content/drive/MyDrive/Colab Notebooks/TFM/Experimento Placa')"
   ]
  },
  {
   "cell_type": "code",
   "execution_count": null,
   "metadata": {
    "colab": {
     "base_uri": "https://localhost:8080/"
    },
    "executionInfo": {
     "elapsed": 2524,
     "status": "ok",
     "timestamp": 1627678337838,
     "user": {
      "displayName": "FELIX FERNÁNDEZ DE LA MATA",
      "photoUrl": "",
      "userId": "17252622624273659964"
     },
     "user_tz": -120
    },
    "id": "1O82sOhMIqYb",
    "outputId": "233ad839-4987-4fbf-9f1b-d93a35e53069",
    "scrolled": true
   },
   "outputs": [],
   "source": [
    "#Paquetes para modelos\n",
    "import sciann as sn\n",
    "import numpy as np\n",
    "from sciann.utils.math import diff, sign, sin, exp\n",
    "from sciann.utils import math as scmath\n",
    "import tensorflow as tf \n",
    "\n",
    "#MlFlow\n",
    "import mlflow\n",
    "from mlflow import log_metric, log_param\n",
    "\n",
    "\n",
    "from itertools import product\n",
    "\n",
    "import time\n",
    "\n",
    "%load_ext autotime"
   ]
  },
  {
   "cell_type": "markdown",
   "metadata": {
    "id": "lKzQmbGe-6dA"
   },
   "source": [
    "#  Preprocesamiento de datos"
   ]
  },
  {
   "cell_type": "markdown",
   "metadata": {
    "id": "v1Jx3eGrI1lm"
   },
   "source": [
    "## Modelo numérico"
   ]
  },
  {
   "cell_type": "code",
   "execution_count": null,
   "metadata": {
    "id": "EDEY72QFIuyo"
   },
   "outputs": [],
   "source": [
    "def lee_u(u_file):\n",
    "    values = []\n",
    "    times = []\n",
    "    fd = open(u_file,'r')\n",
    "    for tupla in fd.read().split('\\n\\n'):\n",
    "        if tupla != '':\n",
    "            tiempo, datos = tupla.split('\\n')\n",
    "            times.append(float(tiempo))\n",
    "            vector = []\n",
    "            for value in datos.split('\\t'):\n",
    "                    if value != '':\n",
    "                        vector.append(float(value))\n",
    "            values.append(vector)\n",
    "    values = np.array(values)\n",
    "    fd.close()\n",
    "    return times, values\n",
    "\n",
    "def lee_mesh(mesh_file):\n",
    "    fd = open(mesh_file)\n",
    "    for batch in fd.read().split('\\n\\n'):\n",
    "        if batch[0:8]=='Vertices':\n",
    "            vertices = batch\n",
    "    fd.close()\n",
    "\n",
    "    coordenadas = []\n",
    "\n",
    "    for vertice in vertices.split('\\n'):\n",
    "        if len(vertice.split(' ')) == 3:\n",
    "            coordenadas.append([float(vertice.split(' ')[0]),float(vertice.split(' ')[1])])\n",
    "    coordenadas = np.array(coordenadas)\n",
    "    return coordenadas\n",
    "\n",
    "def preparadatos(u_file,mesh_file):\n",
    "    datos = lee_u(u_file)\n",
    "    mesh = lee_mesh(mesh_file)\n",
    "    \n",
    "    sec = datos[0][0]\n",
    "    fullmesh = np.insert(mesh,2,sec,axis=1)\n",
    "    \n",
    "    for i in range(1,len(datos[0])):\n",
    "        sec = datos[0][i]\n",
    "        fullmesh = np.append(fullmesh,np.insert(mesh,2,sec,axis=1),axis=0)\n",
    "    \n",
    "    valores = datos[1].flatten()\n",
    "    \n",
    "    return fullmesh,valores\n",
    "\n",
    "from scipy.interpolate import griddata"
   ]
  },
  {
   "cell_type": "markdown",
   "metadata": {
    "id": "89pZ6XKiFENM"
   },
   "source": [
    "## Mallado del test (estático)\n",
    "\n"
   ]
  },
  {
   "cell_type": "code",
   "execution_count": null,
   "metadata": {
    "id": "4M1_v5imFDlf",
    "scrolled": true
   },
   "outputs": [],
   "source": [
    "denspt = 10 # Densidad de puntos de evaluación de los funcionales\n",
    "xmin,xmax=-2,2 # Límites en x\n",
    "ymin,ymax =-2,2 # Límites en y\n",
    "tmin,tmax=0,10 # Límites en tiempo t\n",
    "xrange=xmax-xmin\n",
    "yrange=ymax-ymin\n",
    "trange=tmax-tmin\n",
    "\n",
    "xx = np.linspace(xmin, xmax, xrange*denspt) \n",
    "yy = np.linspace(ymin, ymax, yrange*denspt)\n",
    "tt = np.linspace(tmin, tmax, trange*denspt)\n",
    "\n",
    "grid = np.meshgrid(xx,yy,tt)\n",
    "\n",
    "x_test, y_test, t_test = grid"
   ]
  },
  {
   "cell_type": "code",
   "execution_count": 4,
   "metadata": {},
   "outputs": [
    {
     "data": {
      "text/plain": [
       "160000"
      ]
     },
     "execution_count": 4,
     "metadata": {},
     "output_type": "execute_result"
    },
    {
     "name": "stdout",
     "output_type": "stream",
     "text": [
      "time: 16 ms (started: 2021-08-08 11:16:24 +02:00)\n"
     ]
    }
   ],
   "source": [
    "np.product(x_test.shape)"
   ]
  },
  {
   "cell_type": "code",
   "execution_count": 5,
   "metadata": {
    "colab": {
     "base_uri": "https://localhost:8080/"
    },
    "executionInfo": {
     "elapsed": 22594,
     "status": "ok",
     "timestamp": 1627678368073,
     "user": {
      "displayName": "FELIX FERNÁNDEZ DE LA MATA",
      "photoUrl": "",
      "userId": "17252622624273659964"
     },
     "user_tz": -120
    },
    "id": "OXc7C6doGYt0",
    "outputId": "7fe8e444-a18f-4679-e1de-7ab0aebba422"
   },
   "outputs": [
    {
     "name": "stdout",
     "output_type": "stream",
     "text": [
      "Datos preparados\n",
      "time: 21.3 s (started: 2021-08-08 11:16:24 +02:00)\n"
     ]
    }
   ],
   "source": [
    "#Archivos de datos\n",
    "u_file = 'u.txt'\n",
    "mesh_file = 'ofen'\n",
    "#Predicciones del numérico\n",
    "puntos, valores = preparadatos(u_file,mesh_file)\n",
    "print('Datos preparados')\n",
    "u_pred_Num = griddata(puntos, valores, (x_test, y_test, t_test) , method='nearest')"
   ]
  },
  {
   "cell_type": "markdown",
   "metadata": {
    "id": "SC7Vr6qdBco3"
   },
   "source": [
    "## Wrappers en forma de funciones\n"
   ]
  },
  {
   "cell_type": "code",
   "execution_count": 6,
   "metadata": {
    "id": "ohZraM86BbhJ"
   },
   "outputs": [
    {
     "name": "stdout",
     "output_type": "stream",
     "text": [
      "time: 0 ns (started: 2021-08-08 11:16:45 +02:00)\n"
     ]
    }
   ],
   "source": [
    "# Activación para los bordes\n",
    "\n",
    "def activacion(coord,location,direction):\n",
    "    return (1-sign(direction*(location-coord)))/2\n",
    "\n"
   ]
  },
  {
   "cell_type": "markdown",
   "metadata": {
    "id": "0lnGCAakByRi"
   },
   "source": [
    "## Constantes del problema"
   ]
  },
  {
   "cell_type": "code",
   "execution_count": 7,
   "metadata": {
    "id": "fGkJ25PbBxwz"
   },
   "outputs": [
    {
     "name": "stdout",
     "output_type": "stream",
     "text": [
      "time: 0 ns (started: 2021-08-08 11:16:45 +02:00)\n"
     ]
    }
   ],
   "source": [
    "TOL = 0.05 # Esta constante se usa para que los bordes tomen valores y se activen las funciones de contorno\n",
    "conveccion = 1. # Coeficiente de pérdida de calor en los bordes y=1 e y=-1\n",
    "conductividad = 1. # Capacidad conductora de calor del material de la placa\n",
    "capCal = 1. # Capacidad de retención de calor del material de la placa\n",
    "focoTemp = 10. # Temperatura del foco de calor\n",
    "tempExt = 5. # Temperatura del exterior\n",
    "tempInicial = 0. # Temperatura inicial de la placa\n",
    "sigma = 0.4 #Amplitud del foco de calor"
   ]
  },
  {
   "cell_type": "markdown",
   "metadata": {
    "id": "UKFbGYLTKJQu"
   },
   "source": [
    "# Mallado de parámetros de experimentación"
   ]
  },
  {
   "cell_type": "code",
   "execution_count": 1,
   "metadata": {
    "colab": {
     "base_uri": "https://localhost:8080/"
    },
    "executionInfo": {
     "elapsed": 226,
     "status": "ok",
     "timestamp": 1627679041708,
     "user": {
      "displayName": "FELIX FERNÁNDEZ DE LA MATA",
      "photoUrl": "",
      "userId": "17252622624273659964"
     },
     "user_tz": -120
    },
    "id": "lyl2OdcaKL3f",
    "outputId": "89cbb900-ff99-4f34-feae-79fd490217c7"
   },
   "outputs": [
    {
     "ename": "NameError",
     "evalue": "name 'product' is not defined",
     "output_type": "error",
     "traceback": [
      "\u001b[1;31m---------------------------------------------------------------------------\u001b[0m",
      "\u001b[1;31mNameError\u001b[0m                                 Traceback (most recent call last)",
      "\u001b[1;32m<ipython-input-1-a5644a0eb4b7>\u001b[0m in \u001b[0;36m<module>\u001b[1;34m\u001b[0m\n\u001b[0;32m      9\u001b[0m \u001b[1;33m\u001b[0m\u001b[0m\n\u001b[0;32m     10\u001b[0m \u001b[1;33m\u001b[0m\u001b[0m\n\u001b[1;32m---> 11\u001b[1;33m \u001b[0mconfiguraciones\u001b[0m \u001b[1;33m=\u001b[0m \u001b[0mlist\u001b[0m\u001b[1;33m(\u001b[0m\u001b[0mproduct\u001b[0m\u001b[1;33m(\u001b[0m\u001b[0mtrainpt\u001b[0m\u001b[1;33m,\u001b[0m\u001b[0mu_Structure\u001b[0m\u001b[1;33m,\u001b[0m\u001b[0mu_Activator\u001b[0m\u001b[1;33m,\u001b[0m\u001b[0mepochs\u001b[0m\u001b[1;33m,\u001b[0m\u001b[0mloss\u001b[0m\u001b[1;33m,\u001b[0m\u001b[0moptimizer\u001b[0m\u001b[1;33m,\u001b[0m\u001b[0mbatch_size\u001b[0m\u001b[1;33m)\u001b[0m\u001b[1;33m)\u001b[0m\u001b[1;33m\u001b[0m\u001b[1;33m\u001b[0m\u001b[0m\n\u001b[0m\u001b[0;32m     12\u001b[0m \u001b[0mconfiguraciones\u001b[0m \u001b[1;33m=\u001b[0m \u001b[1;33m[\u001b[0m\u001b[0mlist\u001b[0m\u001b[1;33m(\u001b[0m\u001b[0mconfiguracion\u001b[0m\u001b[1;33m)\u001b[0m \u001b[1;32mfor\u001b[0m \u001b[0mconfiguracion\u001b[0m \u001b[1;32min\u001b[0m \u001b[0mconfiguraciones\u001b[0m\u001b[1;33m]\u001b[0m\u001b[1;33m\u001b[0m\u001b[1;33m\u001b[0m\u001b[0m\n\u001b[0;32m     13\u001b[0m \u001b[0mconfiguraciones_finalizadas\u001b[0m \u001b[1;33m=\u001b[0m \u001b[0mlist\u001b[0m\u001b[1;33m(\u001b[0m\u001b[1;33m[\u001b[0m\u001b[1;33m]\u001b[0m\u001b[1;33m)\u001b[0m\u001b[1;33m\u001b[0m\u001b[1;33m\u001b[0m\u001b[0m\n",
      "\u001b[1;31mNameError\u001b[0m: name 'product' is not defined"
     ]
    }
   ],
   "source": [
    "trainpt = [2]\n",
    "u_Structure = [3*[100]]\n",
    "u_Activator = ['tanh']\n",
    "epochs = [2]\n",
    "loss = ['mse']\n",
    "optimizer = ['SGD']\n",
    "batch_size = [2000]\n",
    "\n",
    "\n",
    "\n",
    "configuraciones = list(product(trainpt,u_Structure,u_Activator,epochs,loss,optimizer,batch_size))\n",
    "configuraciones = [list(configuracion) for configuracion in configuraciones]\n",
    "configuraciones_finalizadas = list([])\n",
    "\n",
    "print(len(configuraciones))"
   ]
  },
  {
   "cell_type": "code",
   "execution_count": 9,
   "metadata": {
    "scrolled": true
   },
   "outputs": [
    {
     "name": "stdout",
     "output_type": "stream",
     "text": [
      "time: 0 ns (started: 2021-08-08 11:16:45 +02:00)\n"
     ]
    }
   ],
   "source": [
    "# configuraciones_finalizadas = configuraciones[:25]\n",
    "# np.save('configuraciones_finalizadas',configuraciones_finalizadas,allow_pickle=True)"
   ]
  },
  {
   "cell_type": "code",
   "execution_count": 10,
   "metadata": {
    "colab": {
     "base_uri": "https://localhost:8080/",
     "height": 346
    },
    "executionInfo": {
     "elapsed": 236,
     "status": "error",
     "timestamp": 1627681554587,
     "user": {
      "displayName": "FELIX FERNÁNDEZ DE LA MATA",
      "photoUrl": "",
      "userId": "17252622624273659964"
     },
     "user_tz": -120
    },
    "id": "rgBFAuNHNMUW",
    "outputId": "bfe213eb-732b-4340-e901-ca33290546c5"
   },
   "outputs": [
    {
     "name": "stdout",
     "output_type": "stream",
     "text": [
      "17\n",
      "time: 15 ms (started: 2021-08-08 11:16:45 +02:00)\n"
     ]
    }
   ],
   "source": [
    "configuraciones_finalizadas = np.load('configuraciones_finalizadas.npy',allow_pickle=True).tolist()\n",
    "configuraciones_restantes = [configuracion for configuracion in configuraciones if configuracion not in configuraciones_finalizadas]\n",
    "print(len(configuraciones_restantes))"
   ]
  },
  {
   "cell_type": "markdown",
   "metadata": {
    "id": "eU6ME59FBHzk"
   },
   "source": [
    "# Loop"
   ]
  },
  {
   "cell_type": "code",
   "execution_count": null,
   "metadata": {
    "colab": {
     "base_uri": "https://localhost:8080/",
     "height": 1000
    },
    "executionInfo": {
     "elapsed": 2080803,
     "status": "error",
     "timestamp": 1627681549535,
     "user": {
      "displayName": "FELIX FERNÁNDEZ DE LA MATA",
      "photoUrl": "",
      "userId": "17252622624273659964"
     },
     "user_tz": -120
    },
    "id": "hjEFh-lM9dDs",
    "outputId": "515fbf90-83c8-4c51-8851-53de1c4c93c4"
   },
   "outputs": [
    {
     "name": "stderr",
     "output_type": "stream",
     "text": [
      "2021/08/08 11:16:49 WARNING mlflow.tracking.context.git_context: Failed to import Git (the Git executable is probably not on your PATH), so Git SHA is not available. Error: Failed to initialize: Bad git executable.\n",
      "The git executable must be specified in one of the following ways:\n",
      "    - be included in your $PATH\n",
      "    - be set via $GIT_PYTHON_GIT_EXECUTABLE\n",
      "    - explicitly set via git.refresh()\n",
      "\n",
      "All git commands will error until this is rectified.\n",
      "\n",
      "This initial warning can be silenced or aggravated in the future by setting the\n",
      "$GIT_PYTHON_REFRESH environment variable. Use one of the following values:\n",
      "    - quiet|q|silence|s|none|n|0: for no warning or exception\n",
      "    - warn|w|warning|1: for a printed warning\n",
      "    - error|e|raise|r|2: for a raised exception\n",
      "\n",
      "Example:\n",
      "    export GIT_PYTHON_REFRESH=quiet\n",
      "\n"
     ]
    },
    {
     "name": "stdout",
     "output_type": "stream",
     "text": [
      "Experimentando con:[15, [100, 100, 100], 'tanh', 2000, 'mae', 'Nadam', 20000]\n",
      "\n",
      "Total samples: 540000 \n",
      "Batch size: 20000 \n",
      "Total batches: 27 \n",
      "\n"
     ]
    }
   ],
   "source": [
    "# resultados  = []\n",
    "for configuracion in configuraciones_restantes:\n",
    "    with mlflow.start_run():\n",
    "        \n",
    "        print('Experimentando con:' + str(configuracion))\n",
    "        \n",
    "        #Parámetros\n",
    "        #################\n",
    "        trainpt = configuracion[0]\n",
    "        u_Structure = configuracion[1]\n",
    "        u_Activator = configuracion[2]\n",
    "        epochs = configuracion[3]\n",
    "        loss = configuracion[4]\n",
    "        optimizer = configuracion[5]\n",
    "        batch_size = configuracion[6]\n",
    "        #################\n",
    "\n",
    "        #Log de parámetros\n",
    "        #################\n",
    "        mlflow.log_param('Density', trainpt)\n",
    "        mlflow.log_param('u_Structure', u_Structure)\n",
    "        mlflow.log_param('u_Activator', u_Activator)\n",
    "        mlflow.log_param('Epochs', epochs)\n",
    "        mlflow.log_param('Loss', loss)\n",
    "        mlflow.log_param('Optimizer', optimizer)\n",
    "        mlflow.log_param('Batch size', batch_size)\n",
    "        #################\n",
    "        #Variables del modelo\n",
    "        #################\n",
    "        x = sn.Variable(\"x\") \n",
    "        y = sn.Variable('y')\n",
    "        t = sn.Variable('t')\n",
    "        u = sn.Functional(\"u\", [x,y,t], u_Structure ,u_Activator)\n",
    "        #################\n",
    "    \n",
    "        #Construcción del mallado\n",
    "        #################\n",
    "        \n",
    "\n",
    "        # Mallado (es una malla en tres dimensiones)\n",
    "        denspt = trainpt # Densidad de puntos de evaluación de los funcionales\n",
    "        xmin,ymin,xmax,ymax=-2,-2,2,2 # Límites en x e y\n",
    "        tmin,tmax=0,10 # Límites en tiempo t\n",
    "        xrange,yrange=xmax-xmin,ymax-ymin\n",
    "        trange=tmax-tmin\n",
    "\n",
    "        # Mallado (es una malla en tres dimensiones)\n",
    "        x_data, y_data, t_data = np.meshgrid(\n",
    "            np.linspace(xmin, xmax, xrange*denspt), \n",
    "            np.linspace(ymin, ymax, yrange*denspt),\n",
    "            np.linspace(tmin,tmax,trange*denspt)\n",
    "        )\n",
    "\n",
    "        x_data = x_data.flatten()[:,None]\n",
    "        y_data = y_data.flatten()[:,None]\n",
    "        t_data = t_data.flatten()[:,None]\n",
    "\n",
    "        numpoints =  trainpt**3*xrange*yrange*trange\n",
    "        \n",
    "        mlflow.log_param('Num_Points', numpoints)\n",
    "        #################\n",
    "\n",
    "        #Restricciones\n",
    "        #################\n",
    "        \n",
    "        #Aislamiento en los bordes x=-2 y x=2\n",
    "        L2 = conveccion * diff(u,x)\n",
    "        d2 = sn.constraints.Data(L2)\n",
    "        #Indices de los bordes\n",
    "        indAislamiento = np.where(np.abs(x_data)+TOL>2)[0][:,None]\n",
    "        datos2 = [(indAislamiento,'zeros')]\n",
    "        \n",
    "        #Temperatura constante en los bordes y=-2 e y=2\n",
    "        indConveccion = np.where(np.abs(y_data)+TOL > 2)[0][:,None]\n",
    "        d3 = sn.constraints.Data(u)\n",
    "        datos3 = [(indConveccion,tempExt)]\n",
    "        \n",
    "        #Temperatura inicial\n",
    "        indInicial = np.where(t_data < TOL)[0][:,None]\n",
    "        valInicial = tempExt/2 * np.abs(y_data[indInicial,0])\n",
    "        d4 = sn.constraints.Data(u)\n",
    "        datos4 = [(indInicial,valInicial)]\n",
    "  \n",
    "        #Temperatura foco\n",
    "        radio = np.sqrt(x_data[:,0]**2+y_data[:,0]**2)\n",
    "        indCentro = np.where(radio<sigma)[0]\n",
    "        indT_desde_05 = np.where(t_data[:,0]>5)[0]\n",
    "        indCentro_desde_05 = np.intersect1d(indCentro,indT_desde_05)[:,None]\n",
    "        valCentro = 5 + 5 *  np.exp(-(x_data[indCentro_desde_05,0]**2+y_data[indCentro_desde_05,0]**2)/(2*(sigma)**2))/np.sqrt((2*np.pi*sigma**2))*(1/(1+np.exp(-4*(t_data[indCentro_desde_05,0]-6))))\n",
    "        d5 = sn.constraints.Data(u)\n",
    "        datos5 = [(indCentro_desde_05,valCentro)]\n",
    "\n",
    "        #Este funcional explica el flujo del calor a lo largo de la placa (2 dimensiones)\n",
    "\n",
    "        ecCalor = capCal*diff(u,t) - conductividad *( diff(u,x,order=2) + diff(u,y,order=2))\n",
    "        L1 = sn.constraints.PDE(ecCalor)\n",
    "        fullset = np.arange(numpoints)[:,None]\n",
    "        indSinFoco = np.setdiff1d(fullset,indCentro_desde_05,assume_unique=True)\n",
    "        indSinFoco = np.setdiff1d(indSinFoco,indConveccion)\n",
    "\n",
    "        datos1 = [(indSinFoco,'zeros')]\n",
    " \n",
    "        #Agregamos restricciones\n",
    "        datos = datos1+datos2+datos3+datos4+datos5\n",
    "\n",
    "        #################\n",
    "        #Construcción del modelo\n",
    "        m = sn.SciModel ([x,y,t], [L1,d2,d3,d4,d5], loss,optimizer)\n",
    "\n",
    "        #Entrenamiento del modelo\n",
    "        start = time.process_time()\n",
    "        history = m.train([x_data, y_data, t_data], datos, epochs =epochs,verbose=0,\n",
    "                        batch_size=batch_size)\n",
    "        TEntrenamiento = time.process_time() - start\n",
    "\n",
    "        #Testeo del modelo:\n",
    "\n",
    "        start2 = time.process_time()\n",
    "        u_pred_sciann =  u.eval(m, [x_test, y_test, t_test])\n",
    "        TTesteo = time.process_time() - start2\n",
    "\n",
    "        MAE = np.mean(np.abs(u_pred_Num-u_pred_sciann))*160\n",
    "        RMSE = np.sqrt(np.mean((u_pred_Num-u_pred_sciann)**2))*160\n",
    "\n",
    "        pred = m.model.predict([np.reshape(x_test,(-1,)),np.reshape(y_test,(-1,)),np.reshape(t_test,(-1,))])\n",
    "\n",
    "        funcional = np.mean(np.abs(np.array(pred[1])))\n",
    "        \n",
    "        MAX = np.max(np.abs(u_pred_Num-u_pred_sciann))\n",
    "        \n",
    "        mlflow.log_metric('L1',MAE)\n",
    "        mlflow.log_metric('L2',RMSE)\n",
    "        mlflow.log_metric('MaxError',MAX)\n",
    "        mlflow.log_metric('Funcional',funcional)\n",
    "        mlflow.log_metric('Tiempo_Entrenamiento',TEntrenamiento)\n",
    "        mlflow.log_metric('Tiempo_Evaluacion',TTesteo)\n",
    "        \n",
    "        configuraciones_finalizadas.append(configuracion)\n",
    "        np.save('configuraciones_finalizadas',configuraciones_finalizadas)"
   ]
  },
  {
   "cell_type": "code",
   "execution_count": null,
   "metadata": {
    "id": "mMnmvPztuKfU"
   },
   "outputs": [],
   "source": []
  }
 ],
 "metadata": {
  "accelerator": "GPU",
  "colab": {
   "name": "LoopSolver.ipynb",
   "provenance": []
  },
  "kernelspec": {
   "display_name": "Python 3",
   "language": "python",
   "name": "python3"
  },
  "language_info": {
   "codemirror_mode": {
    "name": "ipython",
    "version": 3
   },
   "file_extension": ".py",
   "mimetype": "text/x-python",
   "name": "python",
   "nbconvert_exporter": "python",
   "pygments_lexer": "ipython3",
   "version": "3.7.11"
  }
 },
 "nbformat": 4,
 "nbformat_minor": 1
}
