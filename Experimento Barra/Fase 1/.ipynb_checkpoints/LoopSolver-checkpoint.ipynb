{
 "cells": [
  {
   "cell_type": "markdown",
   "metadata": {
    "id": "GlPRqY9RIhDa"
   },
   "source": [
    "# Paquetes"
   ]
  },
  {
   "cell_type": "code",
   "execution_count": 1,
   "metadata": {
    "colab": {
     "base_uri": "https://localhost:8080/"
    },
    "id": "Bj9aqM-EIVDt",
    "outputId": "c90f9f34-575b-43f7-965e-f6da902b04bf"
   },
   "outputs": [],
   "source": [
    "# !pip install sciann --quiet"
   ]
  },
  {
   "cell_type": "code",
   "execution_count": 2,
   "metadata": {
    "colab": {
     "base_uri": "https://localhost:8080/"
    },
    "id": "xH-CR3upIoF1",
    "outputId": "6f0571a3-4c2e-42bc-f30d-87ac75632f9d"
   },
   "outputs": [],
   "source": [
    "# !pip install mlflow --quiet"
   ]
  },
  {
   "cell_type": "code",
   "execution_count": 2,
   "metadata": {
    "id": "1O82sOhMIqYb",
    "scrolled": true
   },
   "outputs": [
    {
     "name": "stdout",
     "output_type": "stream",
     "text": [
      "---------------------- SCIANN 0.6.4.2 ---------------------- \n",
      "For details, check out our review paper and the documentation at: \n",
      " +  \"https://www.sciencedirect.com/science/article/pii/S0045782520307374\", \n",
      " +  \"https://arxiv.org/abs/2005.08803\", \n",
      " +  \"https://www.sciann.com\". \n",
      "\n",
      " Need support or would like to contribute, please join sciann`s slack group: \n",
      " +  \"https://join.slack.com/t/sciann/shared_invite/zt-ne1f5jlx-k_dY8RGo3ZreDXwz0f~CeA\" \n",
      " \n",
      "TensorFlow Version: 2.3.0 \n",
      "Python Version: 3.7.11 (default, Jul 27 2021, 09:42:29) [MSC v.1916 64 bit (AMD64)] \n",
      "\n",
      "time: 0 ns (started: 2021-08-18 19:34:57 +02:00)\n"
     ]
    }
   ],
   "source": [
    "#Paquetes para modelos\n",
    "import sciann as sn\n",
    "import numpy as np\n",
    "from sciann.utils.math import diff, sign, sin, exp\n",
    "from sciann.utils import math as scmath\n",
    "import tensorflow as tf \n",
    "\n",
    "#MlFlow\n",
    "import mlflow\n",
    "from mlflow import log_metric, log_param\n",
    "\n",
    "\n",
    "from itertools import product\n",
    "\n",
    "import time\n",
    "\n",
    "%load_ext autotime"
   ]
  },
  {
   "cell_type": "markdown",
   "metadata": {
    "id": "lKzQmbGe-6dA"
   },
   "source": [
    "#  Preprocesamiento de datos"
   ]
  },
  {
   "cell_type": "markdown",
   "metadata": {
    "id": "v1Jx3eGrI1lm"
   },
   "source": [
    "## Modelo simbólico"
   ]
  },
  {
   "cell_type": "code",
   "execution_count": 3,
   "metadata": {
    "id": "EDEY72QFIuyo"
   },
   "outputs": [
    {
     "name": "stdout",
     "output_type": "stream",
     "text": [
      "time: 0 ns (started: 2021-08-18 19:34:57 +02:00)\n"
     ]
    }
   ],
   "source": [
    "def u_n(n,x,t):\n",
    "  mu_n = (2*n+1)*np.pi/4\n",
    "  T_n =  np.exp(-t*(mu_n**2))\n",
    "  X_n = -np.cos(mu_n*x)*2.5/(mu_n**2)\n",
    "  return X_n*T_n\n",
    "\n",
    "profundidad = 100"
   ]
  },
  {
   "cell_type": "markdown",
   "metadata": {
    "id": "89pZ6XKiFENM"
   },
   "source": [
    "## Mallado del test (estático)\n",
    "\n"
   ]
  },
  {
   "cell_type": "code",
   "execution_count": 4,
   "metadata": {
    "id": "4M1_v5imFDlf"
   },
   "outputs": [
    {
     "name": "stdout",
     "output_type": "stream",
     "text": [
      "time: 0 ns (started: 2021-08-18 19:34:57 +02:00)\n"
     ]
    }
   ],
   "source": [
    "denspt = 50 # Densidad de puntos de evaluación de los funcionales\n",
    "xmin,xmax=0,2 # Límites en x e y\n",
    "tmin,tmax=0,10 # Límites en tiempo t\n",
    "xrange=xmax-xmin\n",
    "trange=tmax-tmin\n",
    "\n",
    "x_test, t_test = np.meshgrid(\n",
    "    np.linspace(xmin, xmax, xrange*denspt), \n",
    "    np.arange(0,10*50)/50.\n",
    ") "
   ]
  },
  {
   "cell_type": "code",
   "execution_count": 5,
   "metadata": {
    "id": "OXc7C6doGYt0"
   },
   "outputs": [
    {
     "name": "stdout",
     "output_type": "stream",
     "text": [
      "time: 344 ms (started: 2021-08-18 19:34:59 +02:00)\n"
     ]
    }
   ],
   "source": [
    "#Predicciones del simbólico\n",
    "u_pred_Simb = np.sum((np.array([u_n(n,x_test,t_test) for n in range(profundidad)])),axis=0)+5"
   ]
  },
  {
   "cell_type": "markdown",
   "metadata": {
    "id": "SC7Vr6qdBco3"
   },
   "source": [
    "## Wrappers en forma de funciones\n"
   ]
  },
  {
   "cell_type": "code",
   "execution_count": 6,
   "metadata": {
    "id": "ohZraM86BbhJ"
   },
   "outputs": [
    {
     "name": "stdout",
     "output_type": "stream",
     "text": [
      "time: 15 ms (started: 2021-08-18 19:35:00 +02:00)\n"
     ]
    }
   ],
   "source": [
    "# Activación para los bordes\n",
    "\n",
    "def activacion(coord,location,direction):\n",
    "    return (1-sign(direction*(location-coord)))/2\n",
    "\n"
   ]
  },
  {
   "cell_type": "markdown",
   "metadata": {
    "id": "0lnGCAakByRi"
   },
   "source": [
    "## Constantes del problema"
   ]
  },
  {
   "cell_type": "code",
   "execution_count": 7,
   "metadata": {
    "id": "fGkJ25PbBxwz"
   },
   "outputs": [
    {
     "name": "stdout",
     "output_type": "stream",
     "text": [
      "time: 0 ns (started: 2021-08-18 19:35:02 +02:00)\n"
     ]
    }
   ],
   "source": [
    "TOL = 0.05 # Esta constante se usa para que los bordes tomen valores y se activen las funciones de contorno\n",
    "conveccion = 25. # Coeficiente de pérdida de calor en los bordes y=1 e y=-1\n",
    "conductividad = 1. # Capacidad conductora de calor del material de la placa\n",
    "capCal = 1. # Capacidad de retención de calor del material de la placa\n",
    "focoTemp = 25. # Temperatura del foco de calor\n",
    "tempExt = 5. # Temperatura del exterior\n",
    "tempInicial = 0. # Temperatura inicial de la placa"
   ]
  },
  {
   "cell_type": "markdown",
   "metadata": {
    "id": "UKFbGYLTKJQu"
   },
   "source": [
    "# Mallado de parámetros de experimentación"
   ]
  },
  {
   "cell_type": "code",
   "execution_count": 11,
   "metadata": {
    "id": "lyl2OdcaKL3f"
   },
   "outputs": [
    {
     "name": "stdout",
     "output_type": "stream",
     "text": [
      "1\n",
      "time: 0 ns (started: 2021-08-18 19:35:44 +02:00)\n"
     ]
    }
   ],
   "source": [
    "trainpt = [2]\n",
    "u_Structure = [5*[5]]\n",
    "u_Activator = ['tanh']\n",
    "epochs = [2]\n",
    "loss = ['mse']\n",
    "optimizer = ['SGD']\n",
    "batch_size = [20000]\n",
    "\n",
    "\n",
    "configuraciones = list(product(trainpt,u_Structure,u_Activator,epochs,loss,optimizer,batch_size))\n",
    "configuraciones = [list(configuracion) for configuracion in configuraciones]\n",
    "configuraciones_finalizadas = list([])\n",
    "\n",
    "print(len(configuraciones))"
   ]
  },
  {
   "cell_type": "code",
   "execution_count": 12,
   "metadata": {
    "colab": {
     "base_uri": "https://localhost:8080/"
    },
    "id": "Ma08un-SLyl5",
    "outputId": "6fe6f7ef-f2c6-45f2-d148-f527639fc15c"
   },
   "outputs": [
    {
     "name": "stdout",
     "output_type": "stream",
     "text": [
      "1\n",
      "time: 0 ns (started: 2021-08-18 19:35:46 +02:00)\n"
     ]
    }
   ],
   "source": [
    "configuraciones_finalizadas = np.load('configuraciones_finalizadas.npy',allow_pickle=True).tolist()\n",
    "configuraciones_restantes = [configuracion for configuracion in configuraciones if configuracion not in configuraciones_finalizadas]\n",
    "print(len(configuraciones_restantes))"
   ]
  },
  {
   "cell_type": "code",
   "execution_count": 13,
   "metadata": {},
   "outputs": [
    {
     "name": "stdout",
     "output_type": "stream",
     "text": [
      "Default GPU Device:/device:GPU:0\n",
      "time: 16 ms (started: 2021-08-18 19:35:46 +02:00)\n"
     ]
    }
   ],
   "source": [
    "import tensorflow as tf \n",
    "\n",
    "if tf.test.gpu_device_name(): \n",
    "\n",
    "    print('Default GPU Device:{}'.format(tf.test.gpu_device_name()))\n",
    "\n",
    "else:\n",
    "\n",
    "   print(\"Please install GPU version of TF\")"
   ]
  },
  {
   "cell_type": "markdown",
   "metadata": {
    "id": "eU6ME59FBHzk"
   },
   "source": [
    "# Loop"
   ]
  },
  {
   "cell_type": "code",
   "execution_count": 14,
   "metadata": {
    "colab": {
     "base_uri": "https://localhost:8080/"
    },
    "id": "E9NXdlcBApGf",
    "outputId": "9b856049-5b8a-44bd-b590-420369c6a880"
   },
   "outputs": [
    {
     "name": "stderr",
     "output_type": "stream",
     "text": [
      "2021/08/18 19:35:48 WARNING mlflow.tracking.context.git_context: Failed to import Git (the Git executable is probably not on your PATH), so Git SHA is not available. Error: Failed to initialize: Bad git executable.\n",
      "The git executable must be specified in one of the following ways:\n",
      "    - be included in your $PATH\n",
      "    - be set via $GIT_PYTHON_GIT_EXECUTABLE\n",
      "    - explicitly set via git.refresh()\n",
      "\n",
      "All git commands will error until this is rectified.\n",
      "\n",
      "This initial warning can be silenced or aggravated in the future by setting the\n",
      "$GIT_PYTHON_REFRESH environment variable. Use one of the following values:\n",
      "    - quiet|q|silence|s|none|n|0: for no warning or exception\n",
      "    - warn|w|warning|1: for a printed warning\n",
      "    - error|e|raise|r|2: for a raised exception\n",
      "\n",
      "Example:\n",
      "    export GIT_PYTHON_REFRESH=quiet\n",
      "\n"
     ]
    },
    {
     "name": "stdout",
     "output_type": "stream",
     "text": [
      "\n",
      "Total samples: 80 \n",
      "Batch size: 80 \n",
      "Total batches: 1 \n",
      "\n",
      "time: 8.31 s (started: 2021-08-18 19:35:48 +02:00)\n"
     ]
    }
   ],
   "source": [
    "# resultados  = []\n",
    "for configuracion in configuraciones_restantes:\n",
    "    with mlflow.start_run():\n",
    "        #Parámetros\n",
    "        #################\n",
    "        trainpt = configuracion[0]\n",
    "        u_Structure = configuracion[1]\n",
    "        u_Activator = configuracion[2]\n",
    "        epochs = configuracion[3]\n",
    "        loss = configuracion[4]\n",
    "        optimizer = configuracion[5]\n",
    "        batch_size = configuracion[6]\n",
    "        #################\n",
    "\n",
    "        #Log de parámetros\n",
    "        #################\n",
    "        mlflow.log_param('Point_Density', trainpt)\n",
    "        mlflow.log_param('u_Structure', u_Structure)\n",
    "        mlflow.log_param('u_Activator', u_Activator)\n",
    "        mlflow.log_param('Epochs', epochs)\n",
    "        mlflow.log_param('Loss', loss)\n",
    "        mlflow.log_param('Optimizer', optimizer)\n",
    "        mlflow.log_param('Batch size', batch_size)\n",
    "        #################\n",
    "\n",
    "        #Variables del modelo\n",
    "        #################\n",
    "        x = sn.Variable('x')\n",
    "        t = sn.Variable('t')\n",
    "        u_Structure = u_Structure\n",
    "        u_Activator = u_Activator\n",
    "        u = sn.Functional(\"u\", [x,t], u_Structure ,u_Activator)\n",
    "        #################\n",
    "\n",
    "        #Construcción del mallado\n",
    "        #################\n",
    "        denspt_t = trainpt # Densidad de puntos de evaluación de los funcionales\n",
    "        denspt_x = trainpt\n",
    "\n",
    "        xmin,xmax=0,2 # Límites en x e y\n",
    "        tmin,tmax=0,10 # Límites en tiempo t\n",
    "        xrange=xmax-xmin\n",
    "        trange=tmax-tmin\n",
    "\n",
    "        # Mallado (es una malla en tres dimensiones)\n",
    "        x_data, t_data = np.meshgrid(\n",
    "          np.linspace(xmin, xmax, xrange*denspt_x),\n",
    "          np.linspace(tmin,tmax, trange*denspt_t)\n",
    "        )\n",
    "\n",
    "        x_data = x_data.flatten()[:,None]\n",
    "        t_data = t_data.flatten()[:,None]\n",
    "\n",
    "        mlflow.log_param('Num Points', trainpt**2*xrange*trange)\n",
    "        #################\n",
    "\n",
    "\n",
    "        #Restricciones\n",
    "        #################\n",
    "        #Calor\n",
    "        L1 = sn.constraints.PDE(capCal*diff(u,t) - conductividad *( (diff(u,x,order=2) )))\n",
    "        #Aislamiento\n",
    "        LI = sn.constraints.PDE((activacion(x,TOL,-1)*conductividad*(- diff(u,x))))\n",
    "        #################\n",
    "\n",
    "        #Datos introducidos como puntos\n",
    "        #################\n",
    "        #TInicial\n",
    "        indInicial = np.where(t_data<TOL)[0]\n",
    "        calorInicial = focoTemp * np.exp(-(x_data[indInicial,0]**2)/(2*(0.1)**2))/(2*np.pi*0.1)\n",
    "        calorInicial = 2.5*x_data[indInicial,0]\n",
    "\n",
    "        #Elegimos x > 2-TOL y t>TOL\n",
    "        indDerecha = np.where(x_data>2-TOL)[0]\n",
    "        indT_No_Inicial = np.where(t_data>TOL)[0]\n",
    "        indDerecha = np.intersect1d(indDerecha,indT_No_Inicial)\n",
    "        calorDerecha = np.full(len(indDerecha),tempExt)\n",
    "\n",
    "        #Unimos todos los datos\n",
    "        indices = np.concatenate((indInicial,indDerecha))[:,None]\n",
    "        datos = np.concatenate((calorInicial,calorDerecha))[:,None]\n",
    "\n",
    "        d1 = sn.constraints.Data(u)\n",
    "        #################\n",
    "\n",
    "        #Construcción del modelo\n",
    "        m = sn.SciModel ([x,t], [d1,L1,LI],loss,optimizer)\n",
    "\n",
    "        #Entrenamiento del modelo\n",
    "        start = time.process_time()\n",
    "        history = m.train([x_data,  t_data], [(indices,datos)]+2*['zeros'], epochs =epochs,verbose=0,\n",
    "                        batch_size=batch_size)\n",
    "        TEntrenamiento = time.process_time() - start\n",
    "\n",
    "        #Testeo del modelo:\n",
    "\n",
    "        #predicciones de sciann\n",
    "\n",
    "        start2 = time.process_time()\n",
    "        u_pred_sciann =  u.eval(m, [x_test, t_test])\n",
    "        TTesteo = time.process_time() - start2\n",
    "\n",
    "        MAE = np.mean(np.abs(u_pred_Simb-u_pred_sciann))*40\n",
    "        RMSE = np.sqrt(np.mean((u_pred_Simb-u_pred_sciann)**2))*40\n",
    "\n",
    "        pred = m.model.predict([np.reshape(x_test,(-1,)),np.reshape(t_test,(-1,))])\n",
    "\n",
    "        funcional = np.mean(np.abs(np.array(pred[1])))\n",
    "\n",
    "        MAX = np.max(np.abs(u_pred_Simb-u_pred_sciann))\n",
    "\n",
    "        mlflow.log_metric('L1',MAE)\n",
    "        mlflow.log_metric('L2',RMSE)\n",
    "        mlflow.log_metric('MaxError',MAX)\n",
    "        mlflow.log_metric('Funcional',funcional)\n",
    "        mlflow.log_metric('Tiempo_Entrenamiento',TEntrenamiento)\n",
    "        mlflow.log_metric('Tiempo_Evaluacion',TTesteo)\n",
    "        configuraciones_finalizadas.append(configuracion)\n",
    "        np.save('configuraciones_finalizadas',configuraciones_finalizadas)"
   ]
  },
  {
   "cell_type": "code",
   "execution_count": 26,
   "metadata": {
    "colab": {
     "base_uri": "https://localhost:8080/"
    },
    "id": "gg5hYxykJ4Iq",
    "outputId": "07f75ba1-8e23-48b9-9b86-7b8693147deb"
   },
   "outputs": [
    {
     "name": "stdout",
     "output_type": "stream",
     "text": [
      "time: 578 ms (started: 2021-07-28 19:13:44 +02:00)\n"
     ]
    }
   ],
   "source": [
    "import matplotlib.pyplot as plt"
   ]
  },
  {
   "cell_type": "code",
   "execution_count": 30,
   "metadata": {
    "id": "-2j3EmPwKBVy"
   },
   "outputs": [
    {
     "data": {
      "text/plain": [
       "[<matplotlib.lines.Line2D at 0x1ecc8465340>]"
      ]
     },
     "execution_count": 30,
     "metadata": {},
     "output_type": "execute_result"
    },
    {
     "data": {
      "image/png": "[encoded data removed]",
      "text/plain": [
       "<Figure size 432x288 with 1 Axes>"
      ]
     },
     "metadata": {
      "needs_background": "light"
     },
     "output_type": "display_data"
    },
    {
     "name": "stdout",
     "output_type": "stream",
     "text": [
      "time: 250 ms (started: 2021-07-28 19:14:40 +02:00)\n"
     ]
    }
   ],
   "source": [
    "plt.plot(history.history['loss'])"
   ]
  },
  {
   "cell_type": "code",
   "execution_count": 29,
   "metadata": {
    "id": "RR5v_YprLg0s"
   },
   "outputs": [
    {
     "data": {
      "text/plain": [
       "dict_keys(['loss', 'u_loss', 'sub_86_loss', 'mul_516_loss', 'lr'])"
      ]
     },
     "execution_count": 29,
     "metadata": {},
     "output_type": "execute_result"
    },
    {
     "name": "stdout",
     "output_type": "stream",
     "text": [
      "time: 16 ms (started: 2021-07-28 19:14:33 +02:00)\n"
     ]
    }
   ],
   "source": [
    "history.history.keys()"
   ]
  },
  {
   "cell_type": "code",
   "execution_count": null,
   "metadata": {
    "colab": {
     "base_uri": "https://localhost:8080/"
    },
    "id": "Wx9ITuc3LkCJ",
    "outputId": "64bba6fa-d93b-49a8-83af-97fb7cfc91c9"
   },
   "outputs": [
    {
     "data": {
      "text/plain": [
       "['patata']"
      ]
     },
     "execution_count": 21,
     "metadata": {
      "tags": []
     },
     "output_type": "execute_result"
    }
   ],
   "source": [
    "resultados"
   ]
  },
  {
   "cell_type": "code",
   "execution_count": null,
   "metadata": {
    "colab": {
     "base_uri": "https://localhost:8080/"
    },
    "id": "Fr7ytjZFLki_",
    "outputId": "483d1181-b22f-47d7-9ed9-9bd8ecaf7e1a"
   },
   "outputs": [
    {
     "data": {
      "text/plain": [
       "[[[5, 5, 5, 5, 5], 1000, 'tanh', 0.7362768859065856, 0.04411528],\n",
       " [[5, 5, 5, 5, 5], 1000, 'relu', 0.5778696160411718, 0.1260327],\n",
       " [[6, 6, 6, 6, 6, 6], 1000, 'tanh', 0.5562344639337996, 0.14978613],\n",
       " [[6, 6, 6, 6, 6, 6], 1000, 'relu', 0.8203092842556636, 0.03137347],\n",
       " [[3, 3, 3], 1000, 'tanh', 0.6467702463624774, 0.05799583],\n",
       " [[3, 3, 3], 1000, 'relu', 0.8637267425615521, 0.045073174]]"
      ]
     },
     "execution_count": 36,
     "metadata": {
      "tags": []
     },
     "output_type": "execute_result"
    }
   ],
   "source": [
    "resultados"
   ]
  },
  {
   "cell_type": "code",
   "execution_count": null,
   "metadata": {
    "id": "6ZjV3a5TOVaV"
   },
   "outputs": [],
   "source": []
  }
 ],
 "metadata": {
  "colab": {
   "name": "LoopSolver.ipynb",
   "provenance": []
  },
  "kernelspec": {
   "display_name": "Python 3",
   "language": "python",
   "name": "python3"
  },
  "language_info": {
   "codemirror_mode": {
    "name": "ipython",
    "version": 3
   },
   "file_extension": ".py",
   "mimetype": "text/x-python",
   "name": "python",
   "nbconvert_exporter": "python",
   "pygments_lexer": "ipython3",
   "version": "3.7.11"
  }
 },
 "nbformat": 4,
 "nbformat_minor": 1
}
